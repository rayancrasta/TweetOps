{
 "cells": [
  {
   "cell_type": "markdown",
   "id": "2192c119-4cab-448c-967b-083e9ec0507a",
   "metadata": {},
   "source": [
    "Dataset: \n",
    "Cleaning code: https://www.kaggle.com/code/artemkharlamov/twitter-friends-graph-analysis "
   ]
  },
  {
   "cell_type": "code",
   "execution_count": 17,
   "id": "013cbef4-b62b-4e08-b753-58e7644f9ed5",
   "metadata": {},
   "outputs": [
    {
     "name": "stdout",
     "output_type": "stream",
     "text": [
      "zsh:1: command not found: pip\n"
     ]
    }
   ],
   "source": [
    "!pip install --upgrade scipy"
   ]
  },
  {
   "cell_type": "code",
   "execution_count": 18,
   "id": "1cc4c691-4ed7-4a7b-8823-0cf09cffb7fe",
   "metadata": {},
   "outputs": [],
   "source": [
    "import numpy as np # linear algebra\n",
    "import pandas as pd # data processing, CSV file I/O (e.g. pd.read_csv)\n",
    "import json \n",
    "import scipy "
   ]
  },
  {
   "cell_type": "code",
   "execution_count": 19,
   "id": "34a48ed1-17d8-47b2-8bf9-0d7c75c5e182",
   "metadata": {},
   "outputs": [
    {
     "name": "stderr",
     "output_type": "stream",
     "text": [
      "<>:1: SyntaxWarning: invalid escape sequence '\\S'\n",
      "<>:1: SyntaxWarning: invalid escape sequence '\\S'\n",
      "/var/folders/t_/bck4d7sx72b41tf1wqn_wtf40000gn/T/ipykernel_47221/2373984901.py:1: SyntaxWarning: invalid escape sequence '\\S'\n",
      "  df = pd.read_csv(r'data.csv', sep=',(?=\\S)', engine='python')\n"
     ]
    }
   ],
   "source": [
    "df = pd.read_csv(r'data.csv', sep=',(?=\\S)', engine='python')"
   ]
  },
  {
   "cell_type": "code",
   "execution_count": 20,
   "id": "25b9da6d-f9b8-4a48-be37-58bb0ae7ebe7",
   "metadata": {},
   "outputs": [],
   "source": [
    "df['friends'] = [json.loads(x) for x in df.friends]\n",
    "df['id'] = [int(x.replace('\"','')) for x in df.id]\n",
    "df['screenName'] = [x.replace('\"','') for x in df.screenName]"
   ]
  },
  {
   "cell_type": "code",
   "execution_count": 21,
   "id": "7659d035-493b-422a-9256-e57d6806987e",
   "metadata": {},
   "outputs": [],
   "source": [
    "#df.head()"
   ]
  },
  {
   "cell_type": "markdown",
   "id": "154b9d8c-33d9-405b-bdf4-ff7f1ec7b528",
   "metadata": {},
   "source": [
    "#### Users with friends less than 300"
   ]
  },
  {
   "cell_type": "code",
   "execution_count": 22,
   "id": "ff17cf1c-88d5-46ee-9b5a-20ffe8d85ea3",
   "metadata": {},
   "outputs": [
    {
     "data": {
      "text/plain": [
       "13164"
      ]
     },
     "execution_count": 22,
     "metadata": {},
     "output_type": "execute_result"
    }
   ],
   "source": [
    "df[df.friendsCount < 300].id.nunique()"
   ]
  },
  {
   "cell_type": "markdown",
   "id": "5993e16b-2741-426f-b026-c485639a1d8b",
   "metadata": {},
   "source": [
    "#### Users with friends less than 30K¶"
   ]
  },
  {
   "cell_type": "code",
   "execution_count": 23,
   "id": "d2fa46e6-f19f-4dee-9666-8e6d5318a342",
   "metadata": {},
   "outputs": [
    {
     "data": {
      "text/plain": [
       "64"
      ]
     },
     "execution_count": 23,
     "metadata": {},
     "output_type": "execute_result"
    }
   ],
   "source": [
    "df[df.friendsCount > 30000].id.nunique()"
   ]
  },
  {
   "cell_type": "code",
   "execution_count": 24,
   "id": "e8ea9f79-832e-4b98-97e1-3eda6a9adba2",
   "metadata": {},
   "outputs": [
    {
     "name": "stdout",
     "output_type": "stream",
     "text": [
      "Column names:\n",
      "id\n",
      "screenName\n",
      "tags\n",
      "avatar\n",
      "followersCount\n",
      "friendsCount\n",
      "lang\n",
      "lastSeen\n",
      "tweetId\n",
      "friends\n"
     ]
    }
   ],
   "source": [
    "# Print column names\n",
    "print(\"Column names:\")\n",
    "for column in df.columns:\n",
    "    print(column)"
   ]
  },
  {
   "cell_type": "code",
   "execution_count": 25,
   "id": "2a4a4a69-2212-4914-b49d-99beaf51d858",
   "metadata": {},
   "outputs": [],
   "source": [
    "# Drop unwanted columns\n",
    "columns_to_drop = ['tags', 'avatar', 'tweetId']\n",
    "df = df.drop(columns=columns_to_drop)"
   ]
  },
  {
   "cell_type": "code",
   "execution_count": 32,
   "id": "550620a5-1e3b-4265-95ee-1450854e172e",
   "metadata": {},
   "outputs": [
    {
     "data": {
      "text/html": [
       "<div>\n",
       "<style scoped>\n",
       "    .dataframe tbody tr th:only-of-type {\n",
       "        vertical-align: middle;\n",
       "    }\n",
       "\n",
       "    .dataframe tbody tr th {\n",
       "        vertical-align: top;\n",
       "    }\n",
       "\n",
       "    .dataframe thead th {\n",
       "        text-align: right;\n",
       "    }\n",
       "</style>\n",
       "<table border=\"1\" class=\"dataframe\">\n",
       "  <thead>\n",
       "    <tr style=\"text-align: right;\">\n",
       "      <th></th>\n",
       "      <th>id</th>\n",
       "      <th>screenName</th>\n",
       "      <th>followersCount</th>\n",
       "      <th>friendsCount</th>\n",
       "      <th>lang</th>\n",
       "      <th>lastSeen</th>\n",
       "      <th>friends</th>\n",
       "    </tr>\n",
       "  </thead>\n",
       "  <tbody>\n",
       "    <tr>\n",
       "      <th>0</th>\n",
       "      <td>1969527638</td>\n",
       "      <td>LlngoMakeEmCum_</td>\n",
       "      <td>319</td>\n",
       "      <td>112</td>\n",
       "      <td>\"en\"</td>\n",
       "      <td>1472271687519</td>\n",
       "      <td>[1969574754, 1969295556, 1969284056, 196961221...</td>\n",
       "    </tr>\n",
       "    <tr>\n",
       "      <th>1</th>\n",
       "      <td>51878493</td>\n",
       "      <td>_notmichelle</td>\n",
       "      <td>275</td>\n",
       "      <td>115</td>\n",
       "      <td>\"en\"</td>\n",
       "      <td>1472270622663</td>\n",
       "      <td>[60789485, 2420931980, 2899776756, 127410795, ...</td>\n",
       "    </tr>\n",
       "    <tr>\n",
       "      <th>2</th>\n",
       "      <td>1393409100</td>\n",
       "      <td>jesseayye</td>\n",
       "      <td>120</td>\n",
       "      <td>107</td>\n",
       "      <td>\"en\"</td>\n",
       "      <td>1472804144409</td>\n",
       "      <td>[86868062, 19697415, 2998836604, 456295047, 74...</td>\n",
       "    </tr>\n",
       "    <tr>\n",
       "      <th>3</th>\n",
       "      <td>232891415</td>\n",
       "      <td>MrBrianLloyd</td>\n",
       "      <td>492</td>\n",
       "      <td>325</td>\n",
       "      <td>\"en\"</td>\n",
       "      <td>1472269186776</td>\n",
       "      <td>[361335082, 1405248468, 24626354, 725675895965...</td>\n",
       "    </tr>\n",
       "    <tr>\n",
       "      <th>4</th>\n",
       "      <td>710130422907207680</td>\n",
       "      <td>sarahdorat_16</td>\n",
       "      <td>128</td>\n",
       "      <td>218</td>\n",
       "      <td>\"en\"</td>\n",
       "      <td>1472271397356</td>\n",
       "      <td>[1571896093, 768938323612008448, 2548665930, 3...</td>\n",
       "    </tr>\n",
       "  </tbody>\n",
       "</table>\n",
       "</div>"
      ],
      "text/plain": [
       "                   id       screenName  followersCount  friendsCount  lang  \\\n",
       "0          1969527638  LlngoMakeEmCum_             319           112  \"en\"   \n",
       "1            51878493     _notmichelle             275           115  \"en\"   \n",
       "2          1393409100        jesseayye             120           107  \"en\"   \n",
       "3           232891415     MrBrianLloyd             492           325  \"en\"   \n",
       "4  710130422907207680    sarahdorat_16             128           218  \"en\"   \n",
       "\n",
       "        lastSeen                                            friends  \n",
       "0  1472271687519  [1969574754, 1969295556, 1969284056, 196961221...  \n",
       "1  1472270622663  [60789485, 2420931980, 2899776756, 127410795, ...  \n",
       "2  1472804144409  [86868062, 19697415, 2998836604, 456295047, 74...  \n",
       "3  1472269186776  [361335082, 1405248468, 24626354, 725675895965...  \n",
       "4  1472271397356  [1571896093, 768938323612008448, 2548665930, 3...  "
      ]
     },
     "execution_count": 32,
     "metadata": {},
     "output_type": "execute_result"
    }
   ],
   "source": [
    "df.head()"
   ]
  },
  {
   "cell_type": "code",
   "execution_count": 27,
   "id": "aaf48b3e-246e-446f-b18c-3aeaa6d658d0",
   "metadata": {},
   "outputs": [
    {
     "name": "stdout",
     "output_type": "stream",
     "text": [
      "Data type of 'friends' column: object\n"
     ]
    }
   ],
   "source": [
    "# Get data type of 'friends' column\n",
    "friends_dtype = df['friends'].dtype\n",
    "\n",
    "print(\"Data type of 'friends' column:\", friends_dtype)"
   ]
  },
  {
   "cell_type": "code",
   "execution_count": 28,
   "id": "8f187df5-5610-418b-822b-3219a627b278",
   "metadata": {},
   "outputs": [
    {
     "name": "stdout",
     "output_type": "stream",
     "text": [
      "Friends column value for id 1969527638: ['1969574754', '1969295556', '1969284056', '1969612214', '1970067476', '1969797386', '1969430539', '1969840064', '1969698176', '1970005154', '283011644', '1969901029', '1969563175', '1969302314', '1969978662', '1969457936', '1969667533', '1969547821', '1969943478', '1969668032', '283006529', '1969809440', '1969601096', '1969298856', '1969331652', '1969385498', '1969674368', '1969565263', '1970144676', '1969745390', '1969947438', '1969734134', '1969801326', '1969324008', '1969259820', '1969535827', '1970072989', '1969771688', '1969437804', '1969507394', '1969509972', '1969751588', '283012808', '1969302888', '1970224440', '1969603532', '283011244', '1969501046', '1969887518', '1970153138', '1970267527', '1969941955', '1969421654', '1970013110', '1969544905', '1969839590', '1969876500', '1969674625', '1969337952', '1970046536', '1970090934', '1969419133', '1969517215', '1969787869', '1969298065', '1970149771', '1969422638', '1969504268', '1970025554', '1969776001', '1970138611', '1969316186', '1969547558', '1969689272', '283009727', '283015491', '1969526874', '1969662210', '1969536164', '1969320008', '1969893793', '1970158393', '1969365936', '1970194418', '1969942094', '1969631580', '1969704756', '1969920092', '1969712882', '1969791680', '1969408164', '1969754851', '1970205480', '1969840267', '1969443211', '1969706762', '1969692698', '1969751576', '1969486796', '1969286630', '1969686674', '1969833492', '1969294814', '1969472719', '1969685018', '283008559', '283011243', '1969680078', '1969545697', '1969646412', '1969442725', '1969692529']\n"
     ]
    }
   ],
   "source": [
    "row = df[df['id'] == 1969527638]\n",
    "print(\"Friends column value for id 1969527638:\", row['friends'].values[0])"
   ]
  },
  {
   "cell_type": "code",
   "execution_count": 29,
   "id": "3af4f3dc-1153-46a7-ac70-1809b762cad0",
   "metadata": {},
   "outputs": [
    {
     "data": {
      "text/plain": [
       "112"
      ]
     },
     "execution_count": 29,
     "metadata": {},
     "output_type": "execute_result"
    }
   ],
   "source": [
    "len(row['friends'].values[0])"
   ]
  },
  {
   "cell_type": "code",
   "execution_count": 30,
   "id": "44a429c5-f1a0-498f-92fc-039ba93887f2",
   "metadata": {},
   "outputs": [
    {
     "name": "stdout",
     "output_type": "stream",
     "text": [
      "Not all friends' IDs are present in the dataset.\n"
     ]
    }
   ],
   "source": [
    "# Get the friends column value for that row\n",
    "friends_list = row['friends'].values[0]\n",
    "\n",
    "# Check if every value in friends_list is present in the id column of the dataset\n",
    "if all(friend_id in df['id'].values for friend_id in friends_list):\n",
    "    print(\"All friends' IDs are present in the dataset.\")\n",
    "else:\n",
    "    print(\"Not all friends' IDs are present in the dataset.\")"
   ]
  },
  {
   "cell_type": "code",
   "execution_count": 31,
   "id": "644c243e-29a5-4184-a273-ed1839449290",
   "metadata": {},
   "outputs": [
    {
     "name": "stdout",
     "output_type": "stream",
     "text": [
      "Number of friends' IDs present in the dataset: 0\n"
     ]
    }
   ],
   "source": [
    "# Count how many friends' IDs are present in the dataset\n",
    "present_count = sum(1 for friend_id in friends_list if friend_id in df['id'].values)\n",
    "\n",
    "print(\"Number of friends' IDs present in the dataset:\", present_count)"
   ]
  },
  {
   "cell_type": "code",
   "execution_count": null,
   "id": "788138bf-45ff-4211-985d-0b9c4d0f5e64",
   "metadata": {},
   "outputs": [],
   "source": []
  }
 ],
 "metadata": {
  "kernelspec": {
   "display_name": "Python 3 (ipykernel)",
   "language": "python",
   "name": "python3"
  },
  "language_info": {
   "codemirror_mode": {
    "name": "ipython",
    "version": 3
   },
   "file_extension": ".py",
   "mimetype": "text/x-python",
   "name": "python",
   "nbconvert_exporter": "python",
   "pygments_lexer": "ipython3",
   "version": "3.12.2"
  }
 },
 "nbformat": 4,
 "nbformat_minor": 5
}
