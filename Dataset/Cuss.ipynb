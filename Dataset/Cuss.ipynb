{
 "cells": [
  {
   "cell_type": "code",
   "execution_count": 7,
   "id": "816501a9-11c4-4be5-8cde-1fc5dff0d6ea",
   "metadata": {},
   "outputs": [
    {
     "name": "stdout",
     "output_type": "stream",
     "text": [
      "zsh:1: command not found: pip\n"
     ]
    }
   ],
   "source": [
    "!pip install cuss_inspect"
   ]
  },
  {
   "cell_type": "code",
   "execution_count": 14,
   "id": "ac05f0c1-c071-4530-8ff7-6e48c837f021",
   "metadata": {},
   "outputs": [
    {
     "name": "stdout",
     "output_type": "stream",
     "text": [
      "[0]\n"
     ]
    }
   ],
   "source": [
    "from cuss_inspect import predict, predict_prob\n",
    "\n",
    "# for simple string\n",
    "text_0 = \"this is lund\"\n",
    "print(predict(text_0))"
   ]
  },
  {
   "cell_type": "code",
   "execution_count": null,
   "id": "74ed0451-5988-4c6b-afd3-69ed3d38fbcf",
   "metadata": {},
   "outputs": [],
   "source": []
  }
 ],
 "metadata": {
  "kernelspec": {
   "display_name": "Python 3 (ipykernel)",
   "language": "python",
   "name": "python3"
  },
  "language_info": {
   "codemirror_mode": {
    "name": "ipython",
    "version": 3
   },
   "file_extension": ".py",
   "mimetype": "text/x-python",
   "name": "python",
   "nbconvert_exporter": "python",
   "pygments_lexer": "ipython3",
   "version": "3.12.2"
  }
 },
 "nbformat": 4,
 "nbformat_minor": 5
}
